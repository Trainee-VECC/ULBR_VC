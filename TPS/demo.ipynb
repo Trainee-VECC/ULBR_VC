{
 "cells": [
  {
   "cell_type": "code",
   "execution_count": 16,
   "metadata": {},
   "outputs": [],
   "source": [
    "import torch\n",
    "import cv2\n",
    "import imageio\n",
    "import numpy as np\n",
    "import matplotlib.pyplot as plt\n",
    "import matplotlib.animation as animation\n",
    "from skimage.transform import resize\n",
    "import warnings\n",
    "from demo import make_animation,relative_kp,get_keypoints\n",
    "from skimage import img_as_ubyte\n",
    "from tqdm import tqdm\n",
    "import time\n",
    "warnings.filterwarnings(\"ignore\")"
   ]
  },
  {
   "cell_type": "code",
   "execution_count": 7,
   "metadata": {},
   "outputs": [],
   "source": [
    "device = torch.device('cuda:0') if torch.cuda.is_available() else torch.device('cpu')\n",
    "dataset_name = 'vox' # ['vox', 'taichi', 'ted', 'mgif']\n",
    "source_image_path = './assets/baseframe.jpg'\n",
    "driving_video_path = './assets/live_video_1.mp4'\n",
    "output_video_path = './generated.mp4'\n",
    "config_path = 'config/vox-256.yaml'\n",
    "checkpoint_path = 'checkpoints/vox.pth.tar'\n",
    "predict_mode = 'relative' # ['standard', 'relative', 'avd']\n",
    "find_best_frame = False # when use the relative mode to animate a face, use 'find_best_frame=True' can get better quality result\n",
    "pixel = 256"
   ]
  },
  {
   "cell_type": "code",
   "execution_count": 3,
   "metadata": {
    "colab": {
     "base_uri": "https://localhost:8080/",
     "height": 453
    },
    "id": "Oxi6-riLOgnm",
    "outputId": "d38a8850-9eb1-4de4-9bf2-24cbd847ca1f"
   },
   "outputs": [],
   "source": [
    "source_image = imageio.imread(source_image_path)\n",
    "reader = imageio.get_reader(driving_video_path)\n",
    "\n",
    "\n",
    "source_image = resize(source_image, (pixel, pixel))[..., :3]\n",
    "\n",
    "fps = reader.get_meta_data()['fps']\n",
    "driving_video = []\n",
    "try:\n",
    "    for im in reader:\n",
    "        driving_video.append(im)\n",
    "except RuntimeError:\n",
    "    pass\n",
    "reader.close()\n",
    "\n",
    "driving_video = [resize(frame, (pixel, pixel))[..., :3] for frame in driving_video]"
   ]
  },
  {
   "cell_type": "markdown",
   "metadata": {
    "id": "xjM7ubVfWrwT"
   },
   "source": [
    "**Create a model and load checkpoints**"
   ]
  },
  {
   "cell_type": "code",
   "execution_count": 21,
   "metadata": {
    "id": "3FQiXqQPWt5B"
   },
   "outputs": [],
   "source": [
    "from demo import load_checkpoints\n",
    "inpainting, kp_detector, dense_motion_network, avd_network = load_checkpoints(config_path = config_path, \n",
    "                                                                              checkpoint_path = checkpoint_path, \n",
    "                                                                              device = device)"
   ]
  },
  {
   "cell_type": "code",
   "execution_count": 17,
   "metadata": {},
   "outputs": [],
   "source": [
    "cam=cv2.VideoCapture(driving_video_path)\n",
    "base_frame=cv2.imread(source_image_path)\n",
    "base_frame=resize(base_frame,(256,256))\n",
    "kp_source = get_keypoints(base_frame,kp_detector,device)\n",
    "kp_driving_initial=kp_source\n",
    "base_frame=torch.tensor(base_frame[np.newaxis].astype(np.float32)).permute(0, 3, 1, 2)\n",
    "base_frame = base_frame.to(device)"
   ]
  },
  {
   "cell_type": "code",
   "execution_count": 18,
   "metadata": {},
   "outputs": [
    {
     "data": {
      "text/plain": [
       "torch.Size([1, 3, 256, 256])"
      ]
     },
     "execution_count": 18,
     "metadata": {},
     "output_type": "execute_result"
    }
   ],
   "source": [
    "base_frame.shape"
   ]
  },
  {
   "cell_type": "code",
   "execution_count": 19,
   "metadata": {},
   "outputs": [
    {
     "data": {
      "text/plain": [
       "27.61975073814392"
      ]
     },
     "execution_count": 19,
     "metadata": {},
     "output_type": "execute_result"
    }
   ],
   "source": [
    "tic=time.time()\n",
    "key_points=[]\n",
    "with torch.no_grad():\n",
    "    while cam.isOpened():\n",
    "        ret,frame=cam.read()\n",
    "        if ret:\n",
    "            frame=cv2.flip(frame,1)\n",
    "            h,w,c=frame.shape\n",
    "            cv2.rectangle(frame, ((w-h)//2,0), ((w+h)//2,h), (0,255,255), 5)\n",
    "            driving_frame=frame[:,(w-h)//2:(w+h)//2,[2,1,0]]\n",
    "            driving_frame=resize(driving_frame,(256,256))[...,:3]   \n",
    "            kp_driving=get_keypoints(driving_frame,kp_detector,device)\n",
    "            key_points.append(kp_driving)\n",
    "        else:\n",
    "            break \n",
    "toc=time.time()\n",
    "cam.release()\n",
    "toc-tic"
   ]
  },
  {
   "cell_type": "code",
   "execution_count": 23,
   "metadata": {},
   "outputs": [
    {
     "name": "stderr",
     "output_type": "stream",
     "text": [
      "100%|████████████████████████████████████████████████████████████████████████████████| 381/381 [08:28<00:00,  1.34s/it]\n"
     ]
    },
    {
     "name": "stdout",
     "output_type": "stream",
     "text": [
      "508.9793965816498\n"
     ]
    }
   ],
   "source": [
    "tic=time.time()\n",
    "predictions=[]\n",
    "with torch.no_grad():\n",
    "    for i in tqdm(range(len(key_points))):   \n",
    "        kp_driving=key_points[i]\n",
    "        kp_norm = relative_kp(kp_source=kp_source, kp_driving=kp_driving,kp_driving_initial=kp_driving_initial)\n",
    "        dense_motion = dense_motion_network(source_image=base_frame, kp_driving=kp_norm, kp_source=kp_source, bg_param = None, dropout_flag = False)\n",
    "        out = inpainting(base_frame, dense_motion)\n",
    "        predictions.append(np.transpose(out['prediction'].data.cpu().numpy(), [0, 2, 3, 1])[0])\n",
    "toc=time.time()\n",
    "print(toc-tic)\n",
    "imageio.mimsave(output_video_path, [img_as_ubyte(frame) for frame in predictions], fps=fps)"
   ]
  },
  {
   "cell_type": "code",
   "execution_count": null,
   "metadata": {},
   "outputs": [],
   "source": [
    "predictions = make_animation(source_image, driving_video, inpainting, kp_detector, dense_motion_network, avd_network, device = device, mode = predict_mode)\n",
    "\n",
    "#save resulting video\n",
    "imageio.mimsave(output_video_path, [img_as_ubyte(frame) for frame in predictions], fps=fps)"
   ]
  }
 ],
 "metadata": {
  "accelerator": "GPU",
  "colab": {
   "include_colab_link": true,
   "name": "first-order-model-demo.ipynb",
   "provenance": [],
   "toc_visible": true
  },
  "kernelspec": {
   "display_name": "Python 3 (ipykernel)",
   "language": "python",
   "name": "python3"
  },
  "language_info": {
   "codemirror_mode": {
    "name": "ipython",
    "version": 3
   },
   "file_extension": ".py",
   "mimetype": "text/x-python",
   "name": "python",
   "nbconvert_exporter": "python",
   "pygments_lexer": "ipython3",
   "version": "3.12.3"
  }
 },
 "nbformat": 4,
 "nbformat_minor": 4
}
